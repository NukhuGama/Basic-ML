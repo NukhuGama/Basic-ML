{
 "cells": [
  {
   "cell_type": "code",
   "execution_count": 1,
   "id": "65582627-d5d2-4e3a-baf6-8d446bd0709c",
   "metadata": {},
   "outputs": [
    {
     "name": "stdout",
     "output_type": "stream",
     "text": [
      "Kata asli: running, Kata setelah stemming: run\n",
      "Kata asli: runs, Kata setelah stemming: run\n",
      "Kata asli: runner, Kata setelah stemming: runner\n",
      "Kata asli: ran, Kata setelah stemming: ran\n",
      "Kata asli: easily, Kata setelah stemming: easili\n",
      "Kata asli: fairness, Kata setelah stemming: fair\n",
      "Kata asli: better, Kata setelah stemming: better\n",
      "Kata asli: best, Kata setelah stemming: best\n",
      "Kata asli: cats, Kata setelah stemming: cat\n",
      "Kata asli: cacti, Kata setelah stemming: cacti\n",
      "Kata asli: geese, Kata setelah stemming: gees\n",
      "Kata asli: rocks, Kata setelah stemming: rock\n",
      "Kata asli: oxen, Kata setelah stemming: oxen\n"
     ]
    }
   ],
   "source": [
    "import nltk\n",
    "from nltk.stem import PorterStemmer\n",
    " \n",
    "# Inisialisasi stemmer\n",
    "stemmer = PorterStemmer()\n",
    " \n",
    "# Kata-kata asli\n",
    "words = [\"running\", \"runs\", \"runner\", \"ran\", \"easily\", \"fairness\", \"better\", \"best\", \"cats\", \"cacti\", \"geese\", \"rocks\", \"oxen\"]\n",
    " \n",
    "# Melakukan stemming pada setiap kata\n",
    "for word in words:\n",
    "    stemmed_word = stemmer.stem(word)\n",
    "    print(f\"Kata asli: {word}, Kata setelah stemming: {stemmed_word}\")"
   ]
  },
  {
   "cell_type": "code",
   "execution_count": null,
   "id": "3156d93d-3028-4f7d-a88e-61b1212ac3bb",
   "metadata": {},
   "outputs": [],
   "source": []
  }
 ],
 "metadata": {
  "kernelspec": {
   "display_name": "Python 3 (ipykernel)",
   "language": "python",
   "name": "python3"
  },
  "language_info": {
   "codemirror_mode": {
    "name": "ipython",
    "version": 3
   },
   "file_extension": ".py",
   "mimetype": "text/x-python",
   "name": "python",
   "nbconvert_exporter": "python",
   "pygments_lexer": "ipython3",
   "version": "3.11.0"
  }
 },
 "nbformat": 4,
 "nbformat_minor": 5
}
