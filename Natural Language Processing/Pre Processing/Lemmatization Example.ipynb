{
 "cells": [
  {
   "cell_type": "markdown",
   "id": "fd6c1e00-50ee-4072-a63e-e2cc58ab040e",
   "metadata": {},
   "source": [
    "Lemmatization adalah sebuah teknik dalam pemrosesan teks untuk mengubah kata-kata ke bentuk dasar mereka, yang disebut lemma (atau lema). Tujuannya adalah menyatukan kata-kata dengan akar sama agar dapat direpresentasikan melalui satu bentuk dasar yang merepresentasikan makna kata tersebut secara tepat.\n",
    "\n",
    "Proses lemmatization melibatkan penentuan jenis kata (part of speech, POS) untuk memastikan kata dikembalikan ke lema yang benar. Misalnya, kata kerja (verb) memiliki lema yang berbeda dengan kata benda (noun)."
   ]
  },
  {
   "cell_type": "code",
   "execution_count": 3,
   "id": "e96e8f94-f25d-45a8-9c2a-0966b3959983",
   "metadata": {},
   "outputs": [
    {
     "name": "stdout",
     "output_type": "stream",
     "text": [
      "Kata asli: Run, Kata setelah lematisasi: run\n",
      "Kata asli: Cat, Kata setelah lematisasi: cat\n",
      "Kata asli: Good, Kata setelah lematisasi: good\n",
      "Kata asli: Goose, Kata setelah lematisasi: goose\n",
      "Kata asli: Rock, Kata setelah lematisasi: rock\n",
      "Kata asli: City, Kata setelah lematisasi: city\n",
      "Kata asli: Big, Kata setelah lematisasi: big\n",
      "Kata asli: Happy, Kata setelah lematisasi: happy\n",
      "Kata asli: Run, Kata setelah lematisasi: run\n",
      "Kata asli: Sleep, Kata setelah lematisasi: sleep\n",
      "Kata asli: Securities, Kata setelah lematisasi: security\n",
      "Kata asli: Mice, Kata setelah lematisasi: mouse\n"
     ]
    },
    {
     "name": "stderr",
     "output_type": "stream",
     "text": [
      "[nltk_data] Downloading package wordnet to\n",
      "[nltk_data]     C:\\Users\\HP-01\\AppData\\Roaming\\nltk_data...\n",
      "[nltk_data]   Package wordnet is already up-to-date!\n"
     ]
    }
   ],
   "source": [
    "import nltk\n",
    "from nltk.stem import WordNetLemmatizer\n",
    " \n",
    "# Download wordnet jika belum di-download\n",
    "nltk.download('wordnet')\n",
    " \n",
    "# Inisialisasi lemmatizer\n",
    "lemmatizer = WordNetLemmatizer()\n",
    " \n",
    "# Kata-kata asli\n",
    "words = [\"Run\", \"Cat\", \"Good\", \"Goose\", \"Rock\", \"City\", \"Big\", \"Happy\", \"Run\", \"Sleep\", \"Securities\",\"Mice\"]\n",
    " \n",
    "# Melakukan lematisasi pada setiap kata\n",
    "for word in words:\n",
    "    lemma_word = lemmatizer.lemmatize(word.lower())  # Mengonversi ke huruf kecil untuk memastikan pemrosesan yang konsisten\n",
    "    print(f\"Kata asli: {word}, Kata setelah lematisasi: {lemma_word}\")"
   ]
  },
  {
   "cell_type": "code",
   "execution_count": null,
   "id": "b85528f2-45b3-4a3a-bba7-0134613511a6",
   "metadata": {},
   "outputs": [],
   "source": []
  }
 ],
 "metadata": {
  "kernelspec": {
   "display_name": "Python 3 (ipykernel)",
   "language": "python",
   "name": "python3"
  },
  "language_info": {
   "codemirror_mode": {
    "name": "ipython",
    "version": 3
   },
   "file_extension": ".py",
   "mimetype": "text/x-python",
   "name": "python",
   "nbconvert_exporter": "python",
   "pygments_lexer": "ipython3",
   "version": "3.11.0"
  }
 },
 "nbformat": 4,
 "nbformat_minor": 5
}
