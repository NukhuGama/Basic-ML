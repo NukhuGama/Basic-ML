{
 "cells": [
  {
   "cell_type": "code",
   "execution_count": 5,
   "id": "55cc7391-719e-4b62-ac25-b9238618ec15",
   "metadata": {},
   "outputs": [],
   "source": [
    "# Pertama-tama, kita mengimpor modul yang dibutuhkan\n",
    "from gensim.models import Word2Vec\n",
    "from nltk.tokenize import word_tokenize\n",
    "import nltk"
   ]
  },
  {
   "cell_type": "markdown",
   "id": "8194cfc2-9fb1-421d-bb1e-e6efa93d7f3b",
   "metadata": {},
   "source": [
    "##### Kemudian, kita men-download modul Punkt tokenizer dari NLTK."
   ]
  },
  {
   "cell_type": "code",
   "execution_count": 6,
   "id": "808216c8-b92b-40ec-b039-b69bd79edc9c",
   "metadata": {},
   "outputs": [
    {
     "name": "stderr",
     "output_type": "stream",
     "text": [
      "[nltk_data] Downloading package punkt to\n",
      "[nltk_data]     C:\\Users\\HP-01\\AppData\\Roaming\\nltk_data...\n",
      "[nltk_data]   Package punkt is already up-to-date!\n"
     ]
    },
    {
     "data": {
      "text/plain": [
       "True"
      ]
     },
     "execution_count": 6,
     "metadata": {},
     "output_type": "execute_result"
    }
   ],
   "source": [
    "nltk.download('punkt')"
   ]
  },
  {
   "cell_type": "markdown",
   "id": "2e2915ac-8f87-4301-84c0-eda8f9ad0b01",
   "metadata": {},
   "source": [
    "##### Langkah selanjutnya adalah mendefinisikan contoh data teks yang akan kita gunakan untuk melatih model Word2Vec"
   ]
  },
  {
   "cell_type": "code",
   "execution_count": 7,
   "id": "71e5fe57-2496-4a98-aac4-57f1eef287ff",
   "metadata": {},
   "outputs": [],
   "source": [
    "text_data = [\n",
    "    'Saya suka makan bakso',\n",
    "    'Bakso enak dan lezat',\n",
    "    'Makanan favorit saya adalah nasi goreng',\n",
    "    'Nasi goreng pedas adalah makanan favorit saya',\n",
    "    'Saya suka makanan manis seperti es krim',\n",
    "]"
   ]
  },
  {
   "cell_type": "markdown",
   "id": "d8268e67-6b52-4340-9839-b067a82733f6",
   "metadata": {},
   "source": [
    "##### Setelah itu, kita melakukan tokenisasi pada teks tersebut"
   ]
  },
  {
   "cell_type": "code",
   "execution_count": 8,
   "id": "ec47a138-2f93-463a-b9a5-99080ec38c4a",
   "metadata": {},
   "outputs": [],
   "source": [
    "tokenized_data = [word_tokenize(sentence.lower()) for sentence in text_data]"
   ]
  },
  {
   "cell_type": "markdown",
   "id": "f32510d8-0088-4fa4-b2af-03c2a19a11e0",
   "metadata": {},
   "source": [
    "##### Sekarang, saatnya membangun model Word2Vec menggunakan data teks yang sudah di-tokenisasi."
   ]
  },
  {
   "cell_type": "code",
   "execution_count": 9,
   "id": "e6f43b4a-74d9-4442-b415-c7b24f940d82",
   "metadata": {},
   "outputs": [],
   "source": [
    "model = Word2Vec(sentences=tokenized_data, vector_size=100, window=5, min_count=1, workers=4)"
   ]
  },
  {
   "cell_type": "markdown",
   "id": "d9a51385-379d-4cff-ad21-919db12461bc",
   "metadata": {},
   "source": [
    "##### Setelah model dibangun, kita bisa menggunakan vektor kata untuk kata-kata tertentu atau mencari kata-kata yang mirip dengan kata tertentu."
   ]
  },
  {
   "cell_type": "code",
   "execution_count": 10,
   "id": "d5e7bee4-91e8-4269-b6ab-5ec4eb3ba901",
   "metadata": {},
   "outputs": [
    {
     "name": "stdout",
     "output_type": "stream",
     "text": [
      "Kata-kata yang mirip dengan 'bakso': [('manis', 0.2529163062572479), ('nasi', 0.17018672823905945), ('enak', 0.15006466209888458)]\n",
      "Vektor untuk 'bakso': [-0.00713882  0.00124156 -0.00717766 -0.00224369  0.00371885  0.00583258\n",
      "  0.00119832  0.00210183 -0.00411138  0.00722588 -0.00630644  0.00464789\n",
      " -0.00821918  0.00203677 -0.00497649 -0.00424685 -0.00310906  0.00565491\n",
      "  0.00579776 -0.00497439  0.00077378 -0.0084959   0.00780977  0.00925648\n",
      " -0.00274235  0.0007995   0.00074748  0.00547704 -0.00860589  0.00058358\n",
      "  0.00687019  0.00223141  0.00112457 -0.00932216  0.00848288 -0.0062632\n",
      " -0.00299165  0.00349458 -0.00077282  0.00141124  0.00178217 -0.00682961\n",
      " -0.00972456  0.00904072  0.00619895 -0.00691193  0.00340259  0.00020664\n",
      "  0.00475438 -0.00712046  0.00402629  0.00434812  0.00995727 -0.00447314\n",
      " -0.00138943 -0.00731689 -0.00969748 -0.00908048 -0.00102362 -0.00650396\n",
      "  0.0048507  -0.00616346  0.0025184   0.00073924 -0.00339173 -0.00097928\n",
      "  0.00997817  0.009146   -0.00446089  0.00908287 -0.00564239  0.00593029\n",
      " -0.00309763  0.00343232  0.00301726  0.00690047 -0.00237434  0.00877584\n",
      "  0.00759023 -0.00954767 -0.00800735 -0.00763848  0.0029233  -0.00279572\n",
      " -0.00692899 -0.00812822  0.0083084   0.0019909  -0.00932751 -0.00479288\n",
      "  0.00313647 -0.00471295  0.0052802  -0.00423267  0.00264146 -0.00804574\n",
      "  0.00620901  0.00481829  0.00078651  0.00301266]\n"
     ]
    }
   ],
   "source": [
    "word_vectors = model.wv\n",
    " \n",
    "similar_words = word_vectors.most_similar('bakso', topn=3)\n",
    "print(\"Kata-kata yang mirip dengan 'bakso':\", similar_words)\n",
    " \n",
    "vector = word_vectors['bakso']\n",
    "print(\"Vektor untuk 'bakso':\", vector)"
   ]
  },
  {
   "cell_type": "markdown",
   "id": "2671485f-57de-428b-abe4-9614daf1d515",
   "metadata": {},
   "source": [
    "##### Dalam contoh ini, kita mencari kata-kata yang mirip dengan 'bakso' dan mendapatkan vektor representasinya.\n",
    "\n",
    "Jadi, dengan menggunakan Word2Vec, kita bisa melatih model untuk membuat representasi vektor dari kata-kata dalam teks yang berguna pada berbagai tugas NLP.\n"
   ]
  },
  {
   "cell_type": "code",
   "execution_count": null,
   "id": "76881682-5372-4e63-8d69-9ede180da6c3",
   "metadata": {},
   "outputs": [],
   "source": []
  }
 ],
 "metadata": {
  "kernelspec": {
   "display_name": "Python 3 (ipykernel)",
   "language": "python",
   "name": "python3"
  },
  "language_info": {
   "codemirror_mode": {
    "name": "ipython",
    "version": 3
   },
   "file_extension": ".py",
   "mimetype": "text/x-python",
   "name": "python",
   "nbconvert_exporter": "python",
   "pygments_lexer": "ipython3",
   "version": "3.11.0"
  }
 },
 "nbformat": 4,
 "nbformat_minor": 5
}
