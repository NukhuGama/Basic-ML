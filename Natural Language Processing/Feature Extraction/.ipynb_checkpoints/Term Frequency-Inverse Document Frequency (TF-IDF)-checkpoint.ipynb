{
 "cells": [
  {
   "cell_type": "code",
   "execution_count": 2,
   "id": "3922fe80-f8a3-40a2-ab43-d9acac1031f8",
   "metadata": {},
   "outputs": [],
   "source": [
    "# Pertama-tama, kita mengimpor modul yang dibutuhkan\n",
    "from sklearn.feature_extraction.text import TfidfVectorizer"
   ]
  },
  {
   "cell_type": "markdown",
   "id": "67fed95d-09d2-46bc-9edb-baa1d62e8f56",
   "metadata": {},
   "source": [
    "##### Selanjutnya, kita memiliki data teks contoh yang terdiri dari beberapa dokumen"
   ]
  },
  {
   "cell_type": "code",
   "execution_count": 3,
   "id": "9aea5edd-f587-4bde-827b-2aafffc681a4",
   "metadata": {},
   "outputs": [],
   "source": [
    "documents = [\n",
    "    \"Saya suka makan bakso\",\n",
    "    \"Bakso enak dan lezat\",\n",
    "    \"Makanan favorit saya adalah nasi goreng\",\n",
    "    \"Nasi goreng pedas adalah makanan favorit saya\",\n",
    "    \"Saya suka makanan manis seperti es krim\",\n",
    "]"
   ]
  },
  {
   "cell_type": "markdown",
   "id": "97f0a859-dae7-4d23-9f0e-1b6a5f17f7c0",
   "metadata": {},
   "source": [
    "##### Setelah itu, kita inisialisasi objek TfidfVectorizer."
   ]
  },
  {
   "cell_type": "code",
   "execution_count": 4,
   "id": "d13d8735-0d8f-46e6-b40d-54cec234f38d",
   "metadata": {},
   "outputs": [],
   "source": [
    "tfidf_vectorizer = TfidfVectorizer()"
   ]
  },
  {
   "cell_type": "markdown",
   "id": "6501080d-dabb-4614-9cee-6a8469b0f93e",
   "metadata": {},
   "source": [
    "##### Lalu, kita menghitung TF-IDF dari dokumen-dokumen tersebut."
   ]
  },
  {
   "cell_type": "code",
   "execution_count": 5,
   "id": "8908c3b2-6ba1-45dc-af33-6e17260e264b",
   "metadata": {},
   "outputs": [],
   "source": [
    "tfidf_matrix = tfidf_vectorizer.fit_transform(documents)"
   ]
  },
  {
   "cell_type": "markdown",
   "id": "06278daf-f9eb-4fee-a307-516fe1719b7e",
   "metadata": {},
   "source": [
    "##### Di sini, TF-IDF (Term Frequency-Inverse Document Frequency) menghitung seberapa sering sebuah kata muncul dalam sebuah dokumen, lalu dibandingkan dengan seberapa sering kata tersebut muncul di seluruh koleksi dokumen. Ini membantu untuk menemukan kata-kata yang penting dalam sebuah dokumen."
   ]
  },
  {
   "cell_type": "markdown",
   "id": "0397352e-4c52-4181-99f4-1c88f3f85291",
   "metadata": {},
   "source": [
    "##### Setelah itu, kita bisa melihat vocabulary (kata unik) yang dihasilkan oleh TfidfVectorizer."
   ]
  },
  {
   "cell_type": "code",
   "execution_count": 6,
   "id": "ecb161d0-fa4f-48a7-8d23-d83283bfe5c6",
   "metadata": {},
   "outputs": [
    {
     "name": "stdout",
     "output_type": "stream",
     "text": [
      "Vocabulary: {'saya': 14, 'suka': 16, 'makan': 9, 'bakso': 1, 'enak': 3, 'dan': 2, 'lezat': 8, 'makanan': 10, 'favorit': 5, 'adalah': 0, 'nasi': 12, 'goreng': 6, 'pedas': 13, 'manis': 11, 'seperti': 15, 'es': 4, 'krim': 7}\n"
     ]
    }
   ],
   "source": [
    "print(\"Vocabulary:\", tfidf_vectorizer.vocabulary_)"
   ]
  },
  {
   "cell_type": "markdown",
   "id": "2e581709-fe0c-48ee-904b-63f3efbc1ba0",
   "metadata": {},
   "source": [
    "##### Terakhir, kita bisa melihat hasil dari TF-IDF matrix dalam bentuk array"
   ]
  },
  {
   "cell_type": "code",
   "execution_count": 7,
   "id": "18700c64-11b6-49ba-ba06-1262ec823178",
   "metadata": {},
   "outputs": [
    {
     "name": "stdout",
     "output_type": "stream",
     "text": [
      "TF-IDF Matrix:\n",
      "[[0.         0.49851188 0.         0.         0.         0.\n",
      "  0.         0.         0.         0.61789262 0.         0.\n",
      "  0.         0.         0.34810993 0.         0.49851188]\n",
      " [0.         0.42224214 0.52335825 0.52335825 0.         0.\n",
      "  0.         0.         0.52335825 0.         0.         0.\n",
      "  0.         0.         0.         0.         0.        ]\n",
      " [0.43951606 0.         0.         0.         0.         0.43951606\n",
      "  0.43951606 0.         0.         0.         0.36483803 0.\n",
      "  0.43951606 0.         0.30691325 0.         0.        ]\n",
      " [0.38596041 0.         0.         0.         0.         0.38596041\n",
      "  0.38596041 0.         0.         0.         0.320382   0.\n",
      "  0.38596041 0.47838798 0.26951544 0.         0.        ]\n",
      " [0.         0.         0.         0.         0.42966246 0.\n",
      "  0.         0.42966246 0.         0.         0.28774996 0.42966246\n",
      "  0.         0.         0.24206433 0.42966246 0.34664897]]\n"
     ]
    }
   ],
   "source": [
    "print(\"TF-IDF Matrix:\")\n",
    "print(tfidf_matrix.toarray())"
   ]
  },
  {
   "cell_type": "markdown",
   "id": "746a961d-91ec-445f-83e8-b6e9f5a0ab3a",
   "metadata": {},
   "source": [
    "##### Dengan TF-IDF Matrix ini, kita bisa melihat kata-kata yang paling penting dalam setiap dokumen berdasarkan konteksnya. Semakin tinggi nilai dalam tabel, semakin penting kata tersebut pada dokumen tersebut."
   ]
  },
  {
   "cell_type": "code",
   "execution_count": null,
   "id": "fc9db0ef-aed5-46ba-88f3-4d5f3a053642",
   "metadata": {},
   "outputs": [],
   "source": []
  }
 ],
 "metadata": {
  "kernelspec": {
   "display_name": "Python 3 (ipykernel)",
   "language": "python",
   "name": "python3"
  },
  "language_info": {
   "codemirror_mode": {
    "name": "ipython",
    "version": 3
   },
   "file_extension": ".py",
   "mimetype": "text/x-python",
   "name": "python",
   "nbconvert_exporter": "python",
   "pygments_lexer": "ipython3",
   "version": "3.11.0"
  }
 },
 "nbformat": 4,
 "nbformat_minor": 5
}
