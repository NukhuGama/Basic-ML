{
 "cells": [
  {
   "cell_type": "markdown",
   "id": "54e5e088-5e89-43bc-b938-9b8f89e49eee",
   "metadata": {},
   "source": [
    "##### Bag of Words (BoW) adalah pendekatan sederhana dalam pemrosesan teks yang mengubah teks menjadi representasi numerik. Ide dasarnya adalah kita menganggap setiap dokumen sebagai \"tas\" (bag) kata-kata dan hanya peduli tentang keberadaan kata-kata dalam dokumen tersebut, bukan urutan atau konteksnya. Kemudian, untuk setiap dokumen, kita hitung berapa kali setiap kata muncul. \n",
    "\n",
    "Hasilnya adalah matriks, yakni setiap baris mewakili sebuah dokumen dan setiap kolom mewakili kata-kata unik dalam seluruh kumpulan dokumen. Dengan cara ini, BoW memungkinkan kita mengukur kemunculan kata-kata dalam teks secara numerik, yang dapat digunakan untuk berbagai analisis teks, yakni klasifikasi dokumen, analisis sentimen, dan banyak lagi. "
   ]
  },
  {
   "cell_type": "code",
   "execution_count": 1,
   "id": "d488fd7a-3155-4beb-836b-41c486d08405",
   "metadata": {},
   "outputs": [],
   "source": [
    "# Import library CountVectorizer dari Scikit-learn yang digunakan untuk mengubah teks menjadi representasi Bag of Words (BoW).\n",
    "from sklearn.feature_extraction.text import CountVectorizer"
   ]
  },
  {
   "cell_type": "markdown",
   "id": "b6939f15-5663-41d1-aa72-388a14bf63d8",
   "metadata": {},
   "source": [
    "##### Data teks berisi beberapa dokumen contoh yang akan diolah"
   ]
  },
  {
   "cell_type": "code",
   "execution_count": 2,
   "id": "66189d85-deba-4ae4-9e47-3865ea60abaf",
   "metadata": {},
   "outputs": [],
   "source": [
    "documents = [\n",
    "    \"Ini adalah contoh dokumen pertama.\",\n",
    "    \"Ini adalah dokumen kedua.\",\n",
    "    \"Ini adalah dokumen ketiga.\",\n",
    "    \"Ini adalah contoh contoh contoh.\"\n",
    "]"
   ]
  },
  {
   "cell_type": "markdown",
   "id": "22c110ae-1fe3-47fc-ab59-707947472e31",
   "metadata": {},
   "source": [
    "##### Inisialisasi objek CountVectorizer"
   ]
  },
  {
   "cell_type": "code",
   "execution_count": 3,
   "id": "01c24f19-93ef-4f02-a32f-e1db08ed7892",
   "metadata": {},
   "outputs": [],
   "source": [
    "vectorizer = CountVectorizer()"
   ]
  },
  {
   "cell_type": "markdown",
   "id": "24376952-26dd-40cb-bec9-f8eac85bc498",
   "metadata": {},
   "source": [
    "##### Melakukan fitting dan transformasi pada data teks menggunakan CountVectorizer. Proses ini akan menghitung frekuensi kemunculan setiap kata dalam setiap dokumen."
   ]
  },
  {
   "cell_type": "code",
   "execution_count": 4,
   "id": "e8f6c2ca-7081-44a6-b5aa-655aa8d6c65d",
   "metadata": {},
   "outputs": [],
   "source": [
    "bow_matrix = vectorizer.fit_transform(documents)"
   ]
  },
  {
   "cell_type": "markdown",
   "id": "244e5e8c-1421-4866-b0f9-4f6665ed68d7",
   "metadata": {},
   "source": [
    "##### Setelah transformasi, kita mendapatkan matriks Bag of Words (BoW), yang merupakan representasi numerik dari teks. Matriks ini berisi jumlah kemunculan setiap kata dalam setiap dokumen."
   ]
  },
  {
   "cell_type": "code",
   "execution_count": 5,
   "id": "959366b5-658e-4d8a-b16f-54150dcb1565",
   "metadata": {},
   "outputs": [
    {
     "data": {
      "text/plain": [
       "array([[1, 1, 1, 1, 0, 0, 1],\n",
       "       [1, 0, 1, 1, 1, 0, 0],\n",
       "       [1, 0, 1, 1, 0, 1, 0],\n",
       "       [1, 3, 0, 1, 0, 0, 0]], dtype=int64)"
      ]
     },
     "execution_count": 5,
     "metadata": {},
     "output_type": "execute_result"
    }
   ],
   "source": [
    "bow_matrix.toarray()"
   ]
  },
  {
   "cell_type": "markdown",
   "id": "e19f9bfa-f4db-4637-a1dc-10d7336209b2",
   "metadata": {},
   "source": [
    "##### Kita juga mendapatkan daftar fitur (kata-kata) yang dihasilkan oleh CountVectorizer."
   ]
  },
  {
   "cell_type": "code",
   "execution_count": 6,
   "id": "7858f570-8ab0-4f80-bdd8-1dbade3e17c3",
   "metadata": {},
   "outputs": [],
   "source": [
    "features = vectorizer.get_feature_names_out()"
   ]
  },
  {
   "cell_type": "markdown",
   "id": "e3988af7-50c5-4db9-a7c5-55fa03af7266",
   "metadata": {},
   "source": [
    "##### Hasilnya, kita mencetak matriks BoW beserta daftar fitur yang dihasilkan"
   ]
  },
  {
   "cell_type": "code",
   "execution_count": 7,
   "id": "08c865e2-c20e-49b1-a287-2d8752e97f37",
   "metadata": {},
   "outputs": [
    {
     "name": "stdout",
     "output_type": "stream",
     "text": [
      "Matriks BoW:\n",
      "[[1 1 1 1 0 0 1]\n",
      " [1 0 1 1 1 0 0]\n",
      " [1 0 1 1 0 1 0]\n",
      " [1 3 0 1 0 0 0]]\n",
      "\n",
      "Daftar Fitur:\n",
      "['adalah' 'contoh' 'dokumen' 'ini' 'kedua' 'ketiga' 'pertama']\n"
     ]
    }
   ],
   "source": [
    "print(\"Matriks BoW:\")\n",
    "print(bow_matrix.toarray())\n",
    " \n",
    "print(\"\\nDaftar Fitur:\")\n",
    "print(features)"
   ]
  },
  {
   "cell_type": "markdown",
   "id": "62dfcc8d-1f4d-4d72-9418-ac06bf136014",
   "metadata": {},
   "source": [
    "####"
   ]
  },
  {
   "cell_type": "markdown",
   "id": "9e776beb-2a7f-4fd4-bebc-6becbf9b46c8",
   "metadata": {},
   "source": [
    "##### Dengan menggunakan CountVectorizer, kita bisa mengonversi teks menjadi representasi numerik yang dapat diproses lebih lanjut oleh algoritma pembelajaran mesin atau analisis statistik. Ini memungkinkan kita untuk melakukan berbagai analisis dan pemrosesan teks dengan menggunakan teknik-teknik pemrosesan bahasa alami."
   ]
  },
  {
   "cell_type": "code",
   "execution_count": null,
   "id": "9b3a51a4-573a-4037-b90a-a0a483b6d2ab",
   "metadata": {},
   "outputs": [],
   "source": []
  }
 ],
 "metadata": {
  "kernelspec": {
   "display_name": "Python 3 (ipykernel)",
   "language": "python",
   "name": "python3"
  },
  "language_info": {
   "codemirror_mode": {
    "name": "ipython",
    "version": 3
   },
   "file_extension": ".py",
   "mimetype": "text/x-python",
   "name": "python",
   "nbconvert_exporter": "python",
   "pygments_lexer": "ipython3",
   "version": "3.11.0"
  }
 },
 "nbformat": 4,
 "nbformat_minor": 5
}
