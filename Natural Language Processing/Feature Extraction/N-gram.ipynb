{
 "cells": [
  {
   "cell_type": "code",
   "execution_count": 2,
   "id": "b45e4c93-4f2d-44f4-910b-94b20a63126b",
   "metadata": {},
   "outputs": [],
   "source": [
    "# Import library yang diperlukan\n",
    "from nltk.util import ngrams"
   ]
  },
  {
   "cell_type": "markdown",
   "id": "cbcdaa0e-faff-4766-b999-caefab30bbe8",
   "metadata": {},
   "source": [
    "##### Tentukan beberapa kalimat contoh"
   ]
  },
  {
   "cell_type": "code",
   "execution_count": 3,
   "id": "482ea923-30f0-4682-be80-31f8ba59c0d6",
   "metadata": {},
   "outputs": [],
   "source": [
    "sentences = [\n",
    "    \"Saya suka makan bakso enak di warung dekat rumah.\",\n",
    "    \"Nasi goreng adalah salah satu makanan favorit saya.\",\n",
    "    \"Es krim coklat sangat lezat dan menyegarkan.\",\n",
    "    \"Saat hari hujan, saya suka minum teh hangat.\",\n",
    "    \"Pemandangan pegunungan di pagi hari sangat indah.\",\n",
    "    \"Bola basket adalah olahraga favorit saya sejak kecil.\"\n",
    "]\n"
   ]
  },
  {
   "cell_type": "markdown",
   "id": "79bc4e77-902a-4c29-b999-c3aaf63c0ee6",
   "metadata": {},
   "source": [
    "##### Iterasi melalui setiap kalimat dalam daftar kalimat"
   ]
  },
  {
   "cell_type": "code",
   "execution_count": 6,
   "id": "8d28ba10-db4b-4935-8a79-8c6b65e20b1f",
   "metadata": {},
   "outputs": [],
   "source": [
    "for sentence in sentences:\n",
    "    # Bagi setiap kalimat menjadi kata-kata individu\n",
    "    words = sentence.split()\n",
    "    # Buat 1-gram (unigram) dari kata-kata dalam kalimat tersebut.\n",
    "    unigrams = list(ngrams(words, 1))\n",
    "    # Buat 2-gram (bigram) dari kata-kata dalam kalimat tersebut\n",
    "    bigrams = list(ngrams(words, 2))\n",
    "    # Buat 3-gram (trigram) dari kata-kata dalam kalimat tersebut\n",
    "    trigrams = list(ngrams(words, 3))"
   ]
  },
  {
   "cell_type": "markdown",
   "id": "4f0c681a-615a-49ba-b3bc-2cd806d6bbc6",
   "metadata": {},
   "source": [
    "###### Cetak hasil untuk setiap kalimat, termasuk unigram, bigram, dan trigram."
   ]
  },
  {
   "cell_type": "code",
   "execution_count": 7,
   "id": "b0ebe59c-2488-4eba-9cbb-96645d198c6f",
   "metadata": {},
   "outputs": [
    {
     "name": "stdout",
     "output_type": "stream",
     "text": [
      "\n",
      "Kalimat: Bola basket adalah olahraga favorit saya sejak kecil.\n",
      "1-gram:\n",
      "('Bola',)\n",
      "('basket',)\n",
      "('adalah',)\n",
      "('olahraga',)\n",
      "('favorit',)\n",
      "('saya',)\n",
      "('sejak',)\n",
      "('kecil.',)\n",
      "\n",
      "2-gram:\n",
      "('Bola', 'basket')\n",
      "('basket', 'adalah')\n",
      "('adalah', 'olahraga')\n",
      "('olahraga', 'favorit')\n",
      "('favorit', 'saya')\n",
      "('saya', 'sejak')\n",
      "('sejak', 'kecil.')\n",
      "\n",
      "3-gram:\n",
      "('Bola', 'basket', 'adalah')\n",
      "('basket', 'adalah', 'olahraga')\n",
      "('adalah', 'olahraga', 'favorit')\n",
      "('olahraga', 'favorit', 'saya')\n",
      "('favorit', 'saya', 'sejak')\n",
      "('saya', 'sejak', 'kecil.')\n"
     ]
    }
   ],
   "source": [
    "print(\"\\nKalimat:\", sentence)\n",
    "print(\"1-gram:\")\n",
    "for gram in unigrams:\n",
    "    print(gram)\n",
    "print(\"\\n2-gram:\")\n",
    "for gram in bigrams:\n",
    "    print(gram)\n",
    "print(\"\\n3-gram:\")\n",
    "for gram in trigrams:\n",
    "    print(gram)"
   ]
  },
  {
   "cell_type": "code",
   "execution_count": null,
   "id": "14a32623-aa93-4705-8e49-dfa282a499c6",
   "metadata": {},
   "outputs": [],
   "source": []
  }
 ],
 "metadata": {
  "kernelspec": {
   "display_name": "Python 3 (ipykernel)",
   "language": "python",
   "name": "python3"
  },
  "language_info": {
   "codemirror_mode": {
    "name": "ipython",
    "version": 3
   },
   "file_extension": ".py",
   "mimetype": "text/x-python",
   "name": "python",
   "nbconvert_exporter": "python",
   "pygments_lexer": "ipython3",
   "version": "3.11.0"
  }
 },
 "nbformat": 4,
 "nbformat_minor": 5
}
